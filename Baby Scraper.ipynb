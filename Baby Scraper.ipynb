{
 "cells": [
  {
   "cell_type": "code",
   "execution_count": 48,
   "metadata": {
    "collapsed": false
   },
   "outputs": [],
   "source": [
    "import requests\n",
    "from bs4 import BeautifulSoup\n",
    "import pandas as pd\n",
    "from tabulate import tabulate\n",
    "import os\n",
    "import urllib.request"
   ]
  },
  {
   "cell_type": "code",
   "execution_count": 49,
   "metadata": {
    "collapsed": false
   },
   "outputs": [
    {
     "name": "stderr",
     "output_type": "stream",
     "text": [
      "//anaconda/lib/python3.5/site-packages/bs4/__init__.py:181: UserWarning: No parser was explicitly specified, so I'm using the best available HTML parser for this system (\"lxml\"). This usually isn't a problem, but if you run this code on another system, or in a different virtual environment, it may use a different parser and behave differently.\n",
      "\n",
      "The code that caused this warning is on line 184 of the file //anaconda/lib/python3.5/runpy.py. To get rid of this warning, change code that looks like this:\n",
      "\n",
      " BeautifulSoup([your markup])\n",
      "\n",
      "to this:\n",
      "\n",
      " BeautifulSoup([your markup], \"lxml\")\n",
      "\n",
      "  markup_type=markup_type))\n"
     ]
    }
   ],
   "source": [
    "####Code to get urls\n",
    "url_list = []\n",
    "#annoying_list =['http://www.presidency.ucsb.edu/news_conferences.php?year=2017&Submit=DISPLAY'\n",
    "\n",
    "\n",
    "\n",
    "resp = urllib.request.urlopen('http://www.presidency.ucsb.edu/news_conferences.php?year=2017&Submit=DISPLAY')\n",
    "soup = BeautifulSoup(resp, from_encoding=resp.info().get_param('charset'))\n",
    "\n",
    "for link in soup.find_all('a', href=True):\n",
    "    #print(link['href'])\n",
    "    \n",
    "    url_list.append(link['href'])\n",
    "    \n",
    "    #my_list.append(link['href'])\n",
    "\n"
   ]
  },
  {
   "cell_type": "code",
   "execution_count": 50,
   "metadata": {
    "collapsed": false
   },
   "outputs": [
    {
     "data": {
      "text/plain": [
       "['../ws/index.php?pid=50589',\n",
       " '../ws/index.php?pid=122543',\n",
       " '../ws/index.php?pid=123196',\n",
       " '../ws/index.php?pid=123338',\n",
       " '../ws/index.php?pid=123361',\n",
       " '../ws/index.php?pid=123364',\n",
       " '../ws/index.php?pid=123533',\n",
       " '../ws/index.php?pid=123687',\n",
       " '../ws/index.php?pid=123739',\n",
       " '../ws/index.php?pid=123782',\n",
       " '../ws/index.php?pid=124946']"
      ]
     },
     "execution_count": 50,
     "metadata": {},
     "output_type": "execute_result"
    }
   ],
   "source": [
    "url_list = [x for x in url_list if x != '../index.php']\n",
    "url_list = [x for x in url_list if x !='../index_pppus.php']\n",
    "url_list = [x for x in url_list if x !='#']\n",
    "url_list = [x for x in url_list if x !='../data.php']\n",
    "url_list = [x for x in url_list if x !='../elections.php']\n",
    "url_list = [x for x in url_list if x !='../media.php']\n",
    "url_list = [x for x in url_list if x !='../libraries.php']\n",
    "url_list = [x for x in url_list if x !='../index_docs.php']\n",
    "url_list = [x for x in url_list if x!= ('https://giving.ucsb.edu/Funds/Give?id=185')]\n",
    "url_list = [x for x in url_list if x!= 'http://www.presidency.ucsb.edu/inaugurals.php']\n",
    "url_list = [x for x in url_list if x!= 'http://www.presidency.ucsb.edu/ws']\n",
    "url_list = [x for x in url_list if x!= 'http://www.presidency.ucsb.edu/sou.php']\n",
    "url_list = [x for x in url_list if x!= 'http://www.presidency.ucsb.edu/farewell_addresses.php']\n",
    "url_list = [x for x in url_list if x!= 'http://www.presidency.ucsb.edu/satradio.php']\n",
    "url_list = [x for x in url_list if x!= 'http://www.presidency.ucsb.edu/fireside.php']\n",
    "url_list = [x for x in url_list if x!= 'http://www.presidency.ucsb.edu/news_conferences.php']\n",
    "url_list = [x for x in url_list if x!= 'http://www.presidency.ucsb.edu/executive_orders.php']\n",
    "url_list = [x for x in url_list if x!= 'http://www.presidency.ucsb.edu/proclamations.php']           \n",
    "url_list = [x for x in url_list if x!= 'http://www.presidency.ucsb.edu/signingstatements.php']\n",
    "url_list = [x for x in url_list if x!= 'http://www.presidency.ucsb.edu/press_briefings.php']             \n",
    "url_list = [x for x in url_list if x!= 'http://www.presidency.ucsb.edu/saps.php']\n",
    "url_list = [x for x in url_list if x!= 'http://www.presidency.ucsb.edu/economic_reports.php']            \n",
    "url_list = [x for x in url_list if x!= 'http://www.presidency.ucsb.edu/debates.php']\n",
    "url_list = [x for x in url_list if x!= 'http://www.presidency.ucsb.edu/nomination.php']\n",
    "url_list = [x for x in url_list if x!= 'http://www.presidency.ucsb.edu/platforms.php']            \n",
    "url_list = [x for x in url_list if x!= 'http://www.presidency.ucsb.edu/2016_election.php']\n",
    "url_list = [x for x in url_list if x!= 'http://www.presidency.ucsb.edu/2016_election.php']\n",
    "url_list = [x for x in url_list if x!= 'http://www.presidency.ucsb.edu/2012_election.php']            \n",
    "url_list = [x for x in url_list if x!= 'http://www.presidency.ucsb.edu/2008_election.php'] \n",
    "url_list = [x for x in url_list if x!= 'http://www.presidency.ucsb.edu/2004_election.php'] \n",
    "url_list = [x for x in url_list if x!= 'http://www.presidency.ucsb.edu/1996_election.php']            \n",
    "url_list = [x for x in url_list if x!= 'http://www.presidency.ucsb.edu/1968_election.php']\n",
    "url_list = [x for x in url_list if x!= 'http://www.presidency.ucsb.edu/1960_election.php']\n",
    "url_list = [x for x in url_list if x!= 'http://www.presidency.ucsb.edu/transition2017.php']            \n",
    "url_list = [x for x in url_list if x!= 'http://www.presidency.ucsb.edu/transition2009.php']\n",
    "url_list = [x for x in url_list if x!= 'http://www.presidency.ucsb.edu/transition2001.php']\n",
    "url_list = [x for x in url_list if x!= 'http://www.presidency.ucsb.edu/pool_reports.php']            \n",
    "url_list = [x for x in url_list if x!= 'http://www.presidency.ucsb.edu/data.php']\n",
    "url_list = [x for x in url_list if x!= 'http://www.presidency.ucsb.edu/media.php']\n",
    "url_list = [x for x in url_list if x!= 'http://www.presidency.ucsb.edu/elections.php']           \n",
    "url_list = [x for x in url_list if x!= 'http://www.presidency.ucsb.edu/florida2000.php']\n",
    "url_list = [x for x in url_list if x!= 'http://www.presidency.ucsb.edu/libraries.php']\n",
    "url_list = [x for x in url_list if x!= 'http://www2.clustrmaps.com/counter/maps.php?url=http://www.presidency.ucsb.edu']\n",
    " \n",
    " \n",
    "\n",
    "\n",
    "\n",
    "\n",
    "url_list"
   ]
  },
  {
   "cell_type": "code",
   "execution_count": 51,
   "metadata": {
    "collapsed": false
   },
   "outputs": [
    {
     "data": {
      "text/plain": [
       "['http://www.presidency.ucsb.edu/ws/index.php?pid=50589',\n",
       " 'http://www.presidency.ucsb.edu/ws/index.php?pid=122543',\n",
       " 'http://www.presidency.ucsb.edu/ws/index.php?pid=123196',\n",
       " 'http://www.presidency.ucsb.edu/ws/index.php?pid=123338',\n",
       " 'http://www.presidency.ucsb.edu/ws/index.php?pid=123361',\n",
       " 'http://www.presidency.ucsb.edu/ws/index.php?pid=123364',\n",
       " 'http://www.presidency.ucsb.edu/ws/index.php?pid=123533',\n",
       " 'http://www.presidency.ucsb.edu/ws/index.php?pid=123687',\n",
       " 'http://www.presidency.ucsb.edu/ws/index.php?pid=123739',\n",
       " 'http://www.presidency.ucsb.edu/ws/index.php?pid=123782',\n",
       " 'http://www.presidency.ucsb.edu/ws/index.php?pid=124946']"
      ]
     },
     "execution_count": 51,
     "metadata": {},
     "output_type": "execute_result"
    }
   ],
   "source": [
    "url_list = [s.replace('..', 'http://www.presidency.ucsb.edu') for s in url_list]\n",
    "url_list"
   ]
  },
  {
   "cell_type": "code",
   "execution_count": 44,
   "metadata": {
    "collapsed": true
   },
   "outputs": [],
   "source": [
    "speechdata = []\n"
   ]
  },
  {
   "cell_type": "code",
   "execution_count": 52,
   "metadata": {
    "collapsed": false
   },
   "outputs": [],
   "source": [
    "for i in url_list:\n",
    "    page = requests.get(i)\n",
    "    soup = BeautifulSoup(page.content, 'html.parser')\n",
    "    \n",
    "    scraped = soup.find_all(class_=\"displaytext\")\n",
    "    #thing = scraped[0]\n",
    "    \n",
    "    \n",
    "    #speech = [thing.get_text()]\n",
    "    \n",
    "    speechdata.append(scraped)\n",
    "    "
   ]
  },
  {
   "cell_type": "code",
   "execution_count": null,
   "metadata": {
    "collapsed": false
   },
   "outputs": [],
   "source": []
  },
  {
   "cell_type": "code",
   "execution_count": 53,
   "metadata": {
    "collapsed": false
   },
   "outputs": [],
   "source": [
    "speeches = pd.DataFrame({\n",
    "        \"speechdata\": speechdata\n",
    "        })\n"
   ]
  },
  {
   "cell_type": "code",
   "execution_count": 54,
   "metadata": {
    "collapsed": false
   },
   "outputs": [
    {
     "data": {
      "text/html": [
       "<div>\n",
       "<table border=\"1\" class=\"dataframe\">\n",
       "  <thead>\n",
       "    <tr style=\"text-align: right;\">\n",
       "      <th></th>\n",
       "      <th>speechdata</th>\n",
       "    </tr>\n",
       "  </thead>\n",
       "  <tbody>\n",
       "    <tr>\n",
       "      <th>0</th>\n",
       "      <td>[&lt;span class=\"displaytext\"&gt;&lt;i&gt;The President.&lt;/...</td>\n",
       "    </tr>\n",
       "    <tr>\n",
       "      <th>1</th>\n",
       "      <td>[&lt;span class=\"displaytext\"&gt;&lt;i&gt;President Trump....</td>\n",
       "    </tr>\n",
       "    <tr>\n",
       "      <th>2</th>\n",
       "      <td>[&lt;span class=\"displaytext\"&gt;&lt;i&gt;President Trump....</td>\n",
       "    </tr>\n",
       "    <tr>\n",
       "      <th>3</th>\n",
       "      <td>[&lt;span class=\"displaytext\"&gt;&lt;i&gt;President Trump....</td>\n",
       "    </tr>\n",
       "    <tr>\n",
       "      <th>4</th>\n",
       "      <td>[&lt;span class=\"displaytext\"&gt;&lt;i&gt;President Trump....</td>\n",
       "    </tr>\n",
       "    <tr>\n",
       "      <th>5</th>\n",
       "      <td>[&lt;span class=\"displaytext\"&gt;&lt;i&gt;The President.&lt;/...</td>\n",
       "    </tr>\n",
       "    <tr>\n",
       "      <th>6</th>\n",
       "      <td>[&lt;span class=\"displaytext\"&gt;&lt;i&gt;President Trump....</td>\n",
       "    </tr>\n",
       "    <tr>\n",
       "      <th>7</th>\n",
       "      <td>[&lt;span class=\"displaytext\"&gt;&lt;i&gt;President Trump....</td>\n",
       "    </tr>\n",
       "    <tr>\n",
       "      <th>8</th>\n",
       "      <td>[&lt;span class=\"displaytext\"&gt;&lt;i&gt;President Trump....</td>\n",
       "    </tr>\n",
       "    <tr>\n",
       "      <th>9</th>\n",
       "      <td>[&lt;span class=\"displaytext\"&gt;&lt;i&gt;President Trump....</td>\n",
       "    </tr>\n",
       "    <tr>\n",
       "      <th>10</th>\n",
       "      <td>[&lt;span class=\"displaytext\"&gt;&lt;i&gt;President Trump....</td>\n",
       "    </tr>\n",
       "  </tbody>\n",
       "</table>\n",
       "</div>"
      ],
      "text/plain": [
       "                                           speechdata\n",
       "0   [<span class=\"displaytext\"><i>The President.</...\n",
       "1   [<span class=\"displaytext\"><i>President Trump....\n",
       "2   [<span class=\"displaytext\"><i>President Trump....\n",
       "3   [<span class=\"displaytext\"><i>President Trump....\n",
       "4   [<span class=\"displaytext\"><i>President Trump....\n",
       "5   [<span class=\"displaytext\"><i>The President.</...\n",
       "6   [<span class=\"displaytext\"><i>President Trump....\n",
       "7   [<span class=\"displaytext\"><i>President Trump....\n",
       "8   [<span class=\"displaytext\"><i>President Trump....\n",
       "9   [<span class=\"displaytext\"><i>President Trump....\n",
       "10  [<span class=\"displaytext\"><i>President Trump...."
      ]
     },
     "execution_count": 54,
     "metadata": {},
     "output_type": "execute_result"
    }
   ],
   "source": [
    "speeches"
   ]
  },
  {
   "cell_type": "code",
   "execution_count": 28,
   "metadata": {
    "collapsed": true
   },
   "outputs": [],
   "source": [
    "speeches.to_csv(\"werk_newsconferences1.csv\")"
   ]
  },
  {
   "cell_type": "code",
   "execution_count": 55,
   "metadata": {
    "collapsed": false
   },
   "outputs": [
    {
     "data": {
      "text/html": [
       "<div>\n",
       "<table border=\"1\" class=\"dataframe\">\n",
       "  <thead>\n",
       "    <tr style=\"text-align: right;\">\n",
       "      <th></th>\n",
       "      <th>President</th>\n",
       "      <th>Date</th>\n",
       "      <th>Title</th>\n",
       "    </tr>\n",
       "  </thead>\n",
       "  <tbody>\n",
       "    <tr>\n",
       "      <th>0</th>\n",
       "      <td>Barack Obama</td>\n",
       "      <td>18-Jan-17</td>\n",
       "      <td>The President's News Conference</td>\n",
       "    </tr>\n",
       "    <tr>\n",
       "      <th>1</th>\n",
       "      <td>Donald J. Trump</td>\n",
       "      <td>27-Jan-17</td>\n",
       "      <td>The President's News Conference With Prime Min...</td>\n",
       "    </tr>\n",
       "    <tr>\n",
       "      <th>2</th>\n",
       "      <td>Donald J. Trump</td>\n",
       "      <td>10-Feb-17</td>\n",
       "      <td>The President's News Conference With Prime Min...</td>\n",
       "    </tr>\n",
       "    <tr>\n",
       "      <th>3</th>\n",
       "      <td>Donald J. Trump</td>\n",
       "      <td>13-Feb-17</td>\n",
       "      <td>The President's News Conference With Prime Min...</td>\n",
       "    </tr>\n",
       "    <tr>\n",
       "      <th>4</th>\n",
       "      <td>Donald J. Trump</td>\n",
       "      <td>15-Feb-17</td>\n",
       "      <td>The President's News Conference With Prime Min...</td>\n",
       "    </tr>\n",
       "    <tr>\n",
       "      <th>5</th>\n",
       "      <td>Donald J. Trump</td>\n",
       "      <td>16-Feb-17</td>\n",
       "      <td>The President's News Conference</td>\n",
       "    </tr>\n",
       "    <tr>\n",
       "      <th>6</th>\n",
       "      <td>Donald J. Trump</td>\n",
       "      <td>17-Mar-17</td>\n",
       "      <td>The President's News Conference With Chancello...</td>\n",
       "    </tr>\n",
       "    <tr>\n",
       "      <th>7</th>\n",
       "      <td>Donald J. Trump</td>\n",
       "      <td>5-Apr-17</td>\n",
       "      <td>The President's News Conference With King Abdu...</td>\n",
       "    </tr>\n",
       "    <tr>\n",
       "      <th>8</th>\n",
       "      <td>Donald J. Trump</td>\n",
       "      <td>12-Apr-17</td>\n",
       "      <td>The President's News Conference With Secretary...</td>\n",
       "    </tr>\n",
       "    <tr>\n",
       "      <th>9</th>\n",
       "      <td>Donald J. Trump</td>\n",
       "      <td>20-Apr-17</td>\n",
       "      <td>The President's News Conference With Prime Min...</td>\n",
       "    </tr>\n",
       "    <tr>\n",
       "      <th>10</th>\n",
       "      <td>Donald J. Trump</td>\n",
       "      <td>18-May-17</td>\n",
       "      <td>The President's News Conference With President...</td>\n",
       "    </tr>\n",
       "  </tbody>\n",
       "</table>\n",
       "</div>"
      ],
      "text/plain": [
       "          President       Date  \\\n",
       "0      Barack Obama  18-Jan-17   \n",
       "1   Donald J. Trump  27-Jan-17   \n",
       "2   Donald J. Trump  10-Feb-17   \n",
       "3   Donald J. Trump  13-Feb-17   \n",
       "4   Donald J. Trump  15-Feb-17   \n",
       "5   Donald J. Trump  16-Feb-17   \n",
       "6   Donald J. Trump  17-Mar-17   \n",
       "7   Donald J. Trump   5-Apr-17   \n",
       "8   Donald J. Trump  12-Apr-17   \n",
       "9   Donald J. Trump  20-Apr-17   \n",
       "10  Donald J. Trump  18-May-17   \n",
       "\n",
       "                                                Title  \n",
       "0                     The President's News Conference  \n",
       "1   The President's News Conference With Prime Min...  \n",
       "2   The President's News Conference With Prime Min...  \n",
       "3   The President's News Conference With Prime Min...  \n",
       "4   The President's News Conference With Prime Min...  \n",
       "5                     The President's News Conference  \n",
       "6   The President's News Conference With Chancello...  \n",
       "7   The President's News Conference With King Abdu...  \n",
       "8   The President's News Conference With Secretary...  \n",
       "9   The President's News Conference With Prime Min...  \n",
       "10  The President's News Conference With President...  "
      ]
     },
     "execution_count": 55,
     "metadata": {},
     "output_type": "execute_result"
    }
   ],
   "source": [
    "metadata = pd.read_csv('~/desktop/newsconferences1.csv')\n",
    "\n",
    "#metadata = pd.read_excel('~/desktop/consolidate/news_conf_merge.xls')\n",
    "\n",
    "metadata"
   ]
  },
  {
   "cell_type": "code",
   "execution_count": 56,
   "metadata": {
    "collapsed": false
   },
   "outputs": [],
   "source": [
    "df = pd.merge(speeches, metadata, left_index=True, right_index=True)"
   ]
  },
  {
   "cell_type": "code",
   "execution_count": 57,
   "metadata": {
    "collapsed": false
   },
   "outputs": [
    {
     "data": {
      "text/html": [
       "<div>\n",
       "<table border=\"1\" class=\"dataframe\">\n",
       "  <thead>\n",
       "    <tr style=\"text-align: right;\">\n",
       "      <th></th>\n",
       "      <th>speechdata</th>\n",
       "      <th>President</th>\n",
       "      <th>Date</th>\n",
       "      <th>Title</th>\n",
       "    </tr>\n",
       "  </thead>\n",
       "  <tbody>\n",
       "    <tr>\n",
       "      <th>0</th>\n",
       "      <td>[&lt;span class=\"displaytext\"&gt;&lt;i&gt;The President.&lt;/...</td>\n",
       "      <td>Barack Obama</td>\n",
       "      <td>18-Jan-17</td>\n",
       "      <td>The President's News Conference</td>\n",
       "    </tr>\n",
       "    <tr>\n",
       "      <th>1</th>\n",
       "      <td>[&lt;span class=\"displaytext\"&gt;&lt;i&gt;President Trump....</td>\n",
       "      <td>Donald J. Trump</td>\n",
       "      <td>27-Jan-17</td>\n",
       "      <td>The President's News Conference With Prime Min...</td>\n",
       "    </tr>\n",
       "    <tr>\n",
       "      <th>2</th>\n",
       "      <td>[&lt;span class=\"displaytext\"&gt;&lt;i&gt;President Trump....</td>\n",
       "      <td>Donald J. Trump</td>\n",
       "      <td>10-Feb-17</td>\n",
       "      <td>The President's News Conference With Prime Min...</td>\n",
       "    </tr>\n",
       "    <tr>\n",
       "      <th>3</th>\n",
       "      <td>[&lt;span class=\"displaytext\"&gt;&lt;i&gt;President Trump....</td>\n",
       "      <td>Donald J. Trump</td>\n",
       "      <td>13-Feb-17</td>\n",
       "      <td>The President's News Conference With Prime Min...</td>\n",
       "    </tr>\n",
       "    <tr>\n",
       "      <th>4</th>\n",
       "      <td>[&lt;span class=\"displaytext\"&gt;&lt;i&gt;President Trump....</td>\n",
       "      <td>Donald J. Trump</td>\n",
       "      <td>15-Feb-17</td>\n",
       "      <td>The President's News Conference With Prime Min...</td>\n",
       "    </tr>\n",
       "    <tr>\n",
       "      <th>5</th>\n",
       "      <td>[&lt;span class=\"displaytext\"&gt;&lt;i&gt;The President.&lt;/...</td>\n",
       "      <td>Donald J. Trump</td>\n",
       "      <td>16-Feb-17</td>\n",
       "      <td>The President's News Conference</td>\n",
       "    </tr>\n",
       "    <tr>\n",
       "      <th>6</th>\n",
       "      <td>[&lt;span class=\"displaytext\"&gt;&lt;i&gt;President Trump....</td>\n",
       "      <td>Donald J. Trump</td>\n",
       "      <td>17-Mar-17</td>\n",
       "      <td>The President's News Conference With Chancello...</td>\n",
       "    </tr>\n",
       "    <tr>\n",
       "      <th>7</th>\n",
       "      <td>[&lt;span class=\"displaytext\"&gt;&lt;i&gt;President Trump....</td>\n",
       "      <td>Donald J. Trump</td>\n",
       "      <td>5-Apr-17</td>\n",
       "      <td>The President's News Conference With King Abdu...</td>\n",
       "    </tr>\n",
       "    <tr>\n",
       "      <th>8</th>\n",
       "      <td>[&lt;span class=\"displaytext\"&gt;&lt;i&gt;President Trump....</td>\n",
       "      <td>Donald J. Trump</td>\n",
       "      <td>12-Apr-17</td>\n",
       "      <td>The President's News Conference With Secretary...</td>\n",
       "    </tr>\n",
       "    <tr>\n",
       "      <th>9</th>\n",
       "      <td>[&lt;span class=\"displaytext\"&gt;&lt;i&gt;President Trump....</td>\n",
       "      <td>Donald J. Trump</td>\n",
       "      <td>20-Apr-17</td>\n",
       "      <td>The President's News Conference With Prime Min...</td>\n",
       "    </tr>\n",
       "    <tr>\n",
       "      <th>10</th>\n",
       "      <td>[&lt;span class=\"displaytext\"&gt;&lt;i&gt;President Trump....</td>\n",
       "      <td>Donald J. Trump</td>\n",
       "      <td>18-May-17</td>\n",
       "      <td>The President's News Conference With President...</td>\n",
       "    </tr>\n",
       "  </tbody>\n",
       "</table>\n",
       "</div>"
      ],
      "text/plain": [
       "                                           speechdata        President  \\\n",
       "0   [<span class=\"displaytext\"><i>The President.</...     Barack Obama   \n",
       "1   [<span class=\"displaytext\"><i>President Trump....  Donald J. Trump   \n",
       "2   [<span class=\"displaytext\"><i>President Trump....  Donald J. Trump   \n",
       "3   [<span class=\"displaytext\"><i>President Trump....  Donald J. Trump   \n",
       "4   [<span class=\"displaytext\"><i>President Trump....  Donald J. Trump   \n",
       "5   [<span class=\"displaytext\"><i>The President.</...  Donald J. Trump   \n",
       "6   [<span class=\"displaytext\"><i>President Trump....  Donald J. Trump   \n",
       "7   [<span class=\"displaytext\"><i>President Trump....  Donald J. Trump   \n",
       "8   [<span class=\"displaytext\"><i>President Trump....  Donald J. Trump   \n",
       "9   [<span class=\"displaytext\"><i>President Trump....  Donald J. Trump   \n",
       "10  [<span class=\"displaytext\"><i>President Trump....  Donald J. Trump   \n",
       "\n",
       "         Date                                              Title  \n",
       "0   18-Jan-17                    The President's News Conference  \n",
       "1   27-Jan-17  The President's News Conference With Prime Min...  \n",
       "2   10-Feb-17  The President's News Conference With Prime Min...  \n",
       "3   13-Feb-17  The President's News Conference With Prime Min...  \n",
       "4   15-Feb-17  The President's News Conference With Prime Min...  \n",
       "5   16-Feb-17                    The President's News Conference  \n",
       "6   17-Mar-17  The President's News Conference With Chancello...  \n",
       "7    5-Apr-17  The President's News Conference With King Abdu...  \n",
       "8   12-Apr-17  The President's News Conference With Secretary...  \n",
       "9   20-Apr-17  The President's News Conference With Prime Min...  \n",
       "10  18-May-17  The President's News Conference With President...  "
      ]
     },
     "execution_count": 57,
     "metadata": {},
     "output_type": "execute_result"
    }
   ],
   "source": [
    "df"
   ]
  },
  {
   "cell_type": "code",
   "execution_count": 58,
   "metadata": {
    "collapsed": false
   },
   "outputs": [],
   "source": [
    "df = df[[ 'President', 'Date', 'Title', 'speechdata']]"
   ]
  },
  {
   "cell_type": "code",
   "execution_count": 59,
   "metadata": {
    "collapsed": false
   },
   "outputs": [
    {
     "data": {
      "text/html": [
       "<div>\n",
       "<table border=\"1\" class=\"dataframe\">\n",
       "  <thead>\n",
       "    <tr style=\"text-align: right;\">\n",
       "      <th></th>\n",
       "      <th>President</th>\n",
       "      <th>Date</th>\n",
       "      <th>Title</th>\n",
       "      <th>speechdata</th>\n",
       "    </tr>\n",
       "  </thead>\n",
       "  <tbody>\n",
       "    <tr>\n",
       "      <th>0</th>\n",
       "      <td>Barack Obama</td>\n",
       "      <td>18-Jan-17</td>\n",
       "      <td>The President's News Conference</td>\n",
       "      <td>[&lt;span class=\"displaytext\"&gt;&lt;i&gt;The President.&lt;/...</td>\n",
       "    </tr>\n",
       "    <tr>\n",
       "      <th>1</th>\n",
       "      <td>Donald J. Trump</td>\n",
       "      <td>27-Jan-17</td>\n",
       "      <td>The President's News Conference With Prime Min...</td>\n",
       "      <td>[&lt;span class=\"displaytext\"&gt;&lt;i&gt;President Trump....</td>\n",
       "    </tr>\n",
       "    <tr>\n",
       "      <th>2</th>\n",
       "      <td>Donald J. Trump</td>\n",
       "      <td>10-Feb-17</td>\n",
       "      <td>The President's News Conference With Prime Min...</td>\n",
       "      <td>[&lt;span class=\"displaytext\"&gt;&lt;i&gt;President Trump....</td>\n",
       "    </tr>\n",
       "    <tr>\n",
       "      <th>3</th>\n",
       "      <td>Donald J. Trump</td>\n",
       "      <td>13-Feb-17</td>\n",
       "      <td>The President's News Conference With Prime Min...</td>\n",
       "      <td>[&lt;span class=\"displaytext\"&gt;&lt;i&gt;President Trump....</td>\n",
       "    </tr>\n",
       "    <tr>\n",
       "      <th>4</th>\n",
       "      <td>Donald J. Trump</td>\n",
       "      <td>15-Feb-17</td>\n",
       "      <td>The President's News Conference With Prime Min...</td>\n",
       "      <td>[&lt;span class=\"displaytext\"&gt;&lt;i&gt;President Trump....</td>\n",
       "    </tr>\n",
       "    <tr>\n",
       "      <th>5</th>\n",
       "      <td>Donald J. Trump</td>\n",
       "      <td>16-Feb-17</td>\n",
       "      <td>The President's News Conference</td>\n",
       "      <td>[&lt;span class=\"displaytext\"&gt;&lt;i&gt;The President.&lt;/...</td>\n",
       "    </tr>\n",
       "    <tr>\n",
       "      <th>6</th>\n",
       "      <td>Donald J. Trump</td>\n",
       "      <td>17-Mar-17</td>\n",
       "      <td>The President's News Conference With Chancello...</td>\n",
       "      <td>[&lt;span class=\"displaytext\"&gt;&lt;i&gt;President Trump....</td>\n",
       "    </tr>\n",
       "    <tr>\n",
       "      <th>7</th>\n",
       "      <td>Donald J. Trump</td>\n",
       "      <td>5-Apr-17</td>\n",
       "      <td>The President's News Conference With King Abdu...</td>\n",
       "      <td>[&lt;span class=\"displaytext\"&gt;&lt;i&gt;President Trump....</td>\n",
       "    </tr>\n",
       "    <tr>\n",
       "      <th>8</th>\n",
       "      <td>Donald J. Trump</td>\n",
       "      <td>12-Apr-17</td>\n",
       "      <td>The President's News Conference With Secretary...</td>\n",
       "      <td>[&lt;span class=\"displaytext\"&gt;&lt;i&gt;President Trump....</td>\n",
       "    </tr>\n",
       "    <tr>\n",
       "      <th>9</th>\n",
       "      <td>Donald J. Trump</td>\n",
       "      <td>20-Apr-17</td>\n",
       "      <td>The President's News Conference With Prime Min...</td>\n",
       "      <td>[&lt;span class=\"displaytext\"&gt;&lt;i&gt;President Trump....</td>\n",
       "    </tr>\n",
       "    <tr>\n",
       "      <th>10</th>\n",
       "      <td>Donald J. Trump</td>\n",
       "      <td>18-May-17</td>\n",
       "      <td>The President's News Conference With President...</td>\n",
       "      <td>[&lt;span class=\"displaytext\"&gt;&lt;i&gt;President Trump....</td>\n",
       "    </tr>\n",
       "  </tbody>\n",
       "</table>\n",
       "</div>"
      ],
      "text/plain": [
       "          President       Date  \\\n",
       "0      Barack Obama  18-Jan-17   \n",
       "1   Donald J. Trump  27-Jan-17   \n",
       "2   Donald J. Trump  10-Feb-17   \n",
       "3   Donald J. Trump  13-Feb-17   \n",
       "4   Donald J. Trump  15-Feb-17   \n",
       "5   Donald J. Trump  16-Feb-17   \n",
       "6   Donald J. Trump  17-Mar-17   \n",
       "7   Donald J. Trump   5-Apr-17   \n",
       "8   Donald J. Trump  12-Apr-17   \n",
       "9   Donald J. Trump  20-Apr-17   \n",
       "10  Donald J. Trump  18-May-17   \n",
       "\n",
       "                                                Title  \\\n",
       "0                     The President's News Conference   \n",
       "1   The President's News Conference With Prime Min...   \n",
       "2   The President's News Conference With Prime Min...   \n",
       "3   The President's News Conference With Prime Min...   \n",
       "4   The President's News Conference With Prime Min...   \n",
       "5                     The President's News Conference   \n",
       "6   The President's News Conference With Chancello...   \n",
       "7   The President's News Conference With King Abdu...   \n",
       "8   The President's News Conference With Secretary...   \n",
       "9   The President's News Conference With Prime Min...   \n",
       "10  The President's News Conference With President...   \n",
       "\n",
       "                                           speechdata  \n",
       "0   [<span class=\"displaytext\"><i>The President.</...  \n",
       "1   [<span class=\"displaytext\"><i>President Trump....  \n",
       "2   [<span class=\"displaytext\"><i>President Trump....  \n",
       "3   [<span class=\"displaytext\"><i>President Trump....  \n",
       "4   [<span class=\"displaytext\"><i>President Trump....  \n",
       "5   [<span class=\"displaytext\"><i>The President.</...  \n",
       "6   [<span class=\"displaytext\"><i>President Trump....  \n",
       "7   [<span class=\"displaytext\"><i>President Trump....  \n",
       "8   [<span class=\"displaytext\"><i>President Trump....  \n",
       "9   [<span class=\"displaytext\"><i>President Trump....  \n",
       "10  [<span class=\"displaytext\"><i>President Trump....  "
      ]
     },
     "execution_count": 59,
     "metadata": {},
     "output_type": "execute_result"
    }
   ],
   "source": [
    "df"
   ]
  },
  {
   "cell_type": "code",
   "execution_count": 36,
   "metadata": {
    "collapsed": false
   },
   "outputs": [],
   "source": [
    "df.to_csv(\"newsconferences_trump.csv\")"
   ]
  },
  {
   "cell_type": "code",
   "execution_count": 66,
   "metadata": {
    "collapsed": false
   },
   "outputs": [
    {
     "name": "stdout",
     "output_type": "stream",
     "text": [
      "chicken\n"
     ]
    },
    {
     "data": {
      "text/plain": [
       "{'Date': 0     18-Jan-17\n",
       " 1     27-Jan-17\n",
       " 2     10-Feb-17\n",
       " 3     13-Feb-17\n",
       " 4     15-Feb-17\n",
       " 5     16-Feb-17\n",
       " 6     17-Mar-17\n",
       " 7      5-Apr-17\n",
       " 8     12-Apr-17\n",
       " 9     20-Apr-17\n",
       " 10    18-May-17\n",
       " Name: Date, dtype: object, 'President': 0        Barack Obama\n",
       " 1     Donald J. Trump\n",
       " 2     Donald J. Trump\n",
       " 3     Donald J. Trump\n",
       " 4     Donald J. Trump\n",
       " 5     Donald J. Trump\n",
       " 6     Donald J. Trump\n",
       " 7     Donald J. Trump\n",
       " 8     Donald J. Trump\n",
       " 9     Donald J. Trump\n",
       " 10    Donald J. Trump\n",
       " Name: President, dtype: object, 'Title': 0                       The President's News Conference\n",
       " 1     The President's News Conference With Prime Min...\n",
       " 2     The President's News Conference With Prime Min...\n",
       " 3     The President's News Conference With Prime Min...\n",
       " 4     The President's News Conference With Prime Min...\n",
       " 5                       The President's News Conference\n",
       " 6     The President's News Conference With Chancello...\n",
       " 7     The President's News Conference With King Abdu...\n",
       " 8     The President's News Conference With Secretary...\n",
       " 9     The President's News Conference With Prime Min...\n",
       " 10    The President's News Conference With President...\n",
       " Name: Title, dtype: object, 'speechdata': 0     [<span class=\"displaytext\"><i>The President.</...\n",
       " 1     [<span class=\"displaytext\"><i>President Trump....\n",
       " 2     [<span class=\"displaytext\"><i>President Trump....\n",
       " 3     [<span class=\"displaytext\"><i>President Trump....\n",
       " 4     [<span class=\"displaytext\"><i>President Trump....\n",
       " 5     [<span class=\"displaytext\"><i>The President.</...\n",
       " 6     [<span class=\"displaytext\"><i>President Trump....\n",
       " 7     [<span class=\"displaytext\"><i>President Trump....\n",
       " 8     [<span class=\"displaytext\"><i>President Trump....\n",
       " 9     [<span class=\"displaytext\"><i>President Trump....\n",
       " 10    [<span class=\"displaytext\"><i>President Trump....\n",
       " Name: speechdata, dtype: object}"
      ]
     },
     "execution_count": 66,
     "metadata": {},
     "output_type": "execute_result"
    }
   ],
   "source": [
    "###functionality\n",
    "\n",
    "len(url_list)\n",
    "print('chicken')\n",
    "dict(df)"
   ]
  },
  {
   "cell_type": "code",
   "execution_count": 67,
   "metadata": {
    "collapsed": false
   },
   "outputs": [
    {
     "data": {
      "text/plain": [
       "0        Barack Obama\n",
       "1     Donald J. Trump\n",
       "2     Donald J. Trump\n",
       "3     Donald J. Trump\n",
       "4     Donald J. Trump\n",
       "5     Donald J. Trump\n",
       "6     Donald J. Trump\n",
       "7     Donald J. Trump\n",
       "8     Donald J. Trump\n",
       "9     Donald J. Trump\n",
       "10    Donald J. Trump\n",
       "Name: President, dtype: object"
      ]
     },
     "execution_count": 67,
     "metadata": {},
     "output_type": "execute_result"
    }
   ],
   "source": [
    "df.President"
   ]
  },
  {
   "cell_type": "code",
   "execution_count": 72,
   "metadata": {
    "collapsed": false
   },
   "outputs": [],
   "source": [
    "import pyglet"
   ]
  },
  {
   "cell_type": "code",
   "execution_count": 74,
   "metadata": {
    "collapsed": false
   },
   "outputs": [],
   "source": [
    "import nose"
   ]
  },
  {
   "cell_type": "code",
   "execution_count": null,
   "metadata": {
    "collapsed": false
   },
   "outputs": [],
   "source": []
  },
  {
   "cell_type": "code",
   "execution_count": null,
   "metadata": {
    "collapsed": false
   },
   "outputs": [],
   "source": []
  },
  {
   "cell_type": "code",
   "execution_count": null,
   "metadata": {
    "collapsed": false
   },
   "outputs": [],
   "source": [
    "\n"
   ]
  },
  {
   "cell_type": "code",
   "execution_count": null,
   "metadata": {
    "collapsed": false
   },
   "outputs": [],
   "source": []
  }
 ],
 "metadata": {
  "kernelspec": {
   "display_name": "Python [conda root]",
   "language": "python",
   "name": "conda-root-py"
  },
  "language_info": {
   "codemirror_mode": {
    "name": "ipython",
    "version": 3
   },
   "file_extension": ".py",
   "mimetype": "text/x-python",
   "name": "python",
   "nbconvert_exporter": "python",
   "pygments_lexer": "ipython3",
   "version": "3.5.2"
  }
 },
 "nbformat": 4,
 "nbformat_minor": 1
}
